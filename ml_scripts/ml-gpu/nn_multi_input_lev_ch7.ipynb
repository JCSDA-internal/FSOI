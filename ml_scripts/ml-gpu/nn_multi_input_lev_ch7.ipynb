{
 "cells": [
  {
   "cell_type": "markdown",
   "metadata": {},
   "source": [
    "<h1><center><font color = 'blue'>AMSUA N18 CH7 - Exploratory Data Analysis</font></center></h1>"
   ]
  },
  {
   "cell_type": "code",
   "execution_count": 1,
   "metadata": {},
   "outputs": [
    {
     "name": "stderr",
     "output_type": "stream",
     "text": [
      "Using TensorFlow backend.\n"
     ]
    }
   ],
   "source": [
    "import matplotlib.pyplot as plt\n",
    "import multiprocessing as mp\n",
    "import seaborn as sns\n",
    "import pandas as pd\n",
    "import numpy as np\n",
    "import warnings\n",
    "import psutil\n",
    "import boto3\n",
    "import time\n",
    "import sys\n",
    "import os\n",
    "import gc\n",
    "\n",
    "warnings.simplefilter(action=\"ignore\", category=FutureWarning)\n",
    "warnings.simplefilter(action=\"ignore\", category=UserWarning)\n",
    "\n",
    "from sklearn.preprocessing import StandardScaler\n",
    "from sklearn.metrics import mean_absolute_error\n",
    "from sklearn.metrics import mean_squared_error\n",
    "\n",
    "from keras.layers.normalization import BatchNormalization\n",
    "from keras.layers import Activation, concatenate, Flatten\n",
    "from keras.layers.pooling import MaxPooling2D\n",
    "from keras.layers import SpatialDropout2D\n",
    "from keras.utils import multi_gpu_model\n",
    "from keras.layers import Conv2D, Input\n",
    "from keras.layers import Dropout\n",
    "from keras.layers import Dense\n",
    "from keras.models import Model\n",
    "from keras import backend as K\n",
    "\n",
    "from scipy import stats\n",
    "from math import trunc"
   ]
  },
  {
   "cell_type": "markdown",
   "metadata": {},
   "source": [
    "Pandas consume a lot of RAM when dealing with large dataset, so let's define a function to keep an eye on how much we are using."
   ]
  },
  {
   "cell_type": "code",
   "execution_count": 2,
   "metadata": {},
   "outputs": [],
   "source": [
    "def print_ram_usage():\n",
    "    process = psutil.Process(os.getpid())\n",
    "    ram_usage = round(process.memory_info().rss/float(2**30), 2)\n",
    "    print(\"RAM usage: {}GB\".format(ram_usage))"
   ]
  },
  {
   "cell_type": "markdown",
   "metadata": {},
   "source": [
    "### Import data"
   ]
  },
  {
   "cell_type": "code",
   "execution_count": 3,
   "metadata": {},
   "outputs": [
    {
     "name": "stdout",
     "output_type": "stream",
     "text": [
      "Data imported in: 7 min and 3 sec\n",
      "RAM usage: 51.53GB\n"
     ]
    }
   ],
   "source": [
    "start = time.time()\n",
    "\n",
    "resource = boto3.resource(\"s3\")\n",
    "\n",
    "s3_filepath = \"ml_data/amsua_n18_ch7.h5\"\n",
    "nb_filepath = \"/tmp/\" + s3_filepath.split(\"/\")[-1]\n",
    "\n",
    "resource.Bucket(\"fsoi\").download_file(s3_filepath, nb_filepath)\n",
    "df = pd.read_hdf(nb_filepath)\n",
    "os.remove(nb_filepath)\n",
    "\n",
    "df_2D = pd.read_hdf(\"../efs/data/df_2D.h5\")\n",
    "\n",
    "end = time.time()\n",
    "print(\"Data imported in: {} min and {} sec\".format(trunc((end - start)/60),\n",
    "                                                   round((end - start)%60)))\n",
    "\n",
    "print_ram_usage()"
   ]
  },
  {
   "cell_type": "markdown",
   "metadata": {},
   "source": [
    "### Compute sensitivity, and hour feature"
   ]
  },
  {
   "cell_type": "code",
   "execution_count": 4,
   "metadata": {},
   "outputs": [],
   "source": [
    "df[\"SENSITIVITY\"] = df[\"IMPACT\"]/df[\"OMF\"]\n",
    "df[\"hour\"] = df[\"DATETIME\"].dt.hour"
   ]
  },
  {
   "cell_type": "code",
   "execution_count": 5,
   "metadata": {},
   "outputs": [
    {
     "data": {
      "text/html": [
       "<div>\n",
       "<style scoped>\n",
       "    .dataframe tbody tr th:only-of-type {\n",
       "        vertical-align: middle;\n",
       "    }\n",
       "\n",
       "    .dataframe tbody tr th {\n",
       "        vertical-align: top;\n",
       "    }\n",
       "\n",
       "    .dataframe thead th {\n",
       "        text-align: right;\n",
       "    }\n",
       "</style>\n",
       "<table border=\"1\" class=\"dataframe\">\n",
       "  <thead>\n",
       "    <tr style=\"text-align: right;\">\n",
       "      <th></th>\n",
       "      <th>DATETIME</th>\n",
       "      <th>IMPACT</th>\n",
       "      <th>LATITUDE</th>\n",
       "      <th>LONGITUDE</th>\n",
       "      <th>OMF</th>\n",
       "      <th>delp_0.015</th>\n",
       "      <th>delp_0.026</th>\n",
       "      <th>delp_0.04</th>\n",
       "      <th>delp_0.057</th>\n",
       "      <th>delp_0.078</th>\n",
       "      <th>...</th>\n",
       "      <th>v_873.975</th>\n",
       "      <th>v_888.632</th>\n",
       "      <th>v_903.289</th>\n",
       "      <th>v_917.946</th>\n",
       "      <th>v_932.602</th>\n",
       "      <th>v_947.258</th>\n",
       "      <th>v_961.913</th>\n",
       "      <th>v_976.62</th>\n",
       "      <th>SENSITIVITY</th>\n",
       "      <th>hour</th>\n",
       "    </tr>\n",
       "  </thead>\n",
       "  <tbody>\n",
       "    <tr>\n",
       "      <th>4199834</th>\n",
       "      <td>2015-02-28 18:00:00</td>\n",
       "      <td>-0.000004</td>\n",
       "      <td>88.250000</td>\n",
       "      <td>-96.519997</td>\n",
       "      <td>0.329822</td>\n",
       "      <td>1.0</td>\n",
       "      <td>1.27</td>\n",
       "      <td>1.488501</td>\n",
       "      <td>1.8415</td>\n",
       "      <td>2.3345</td>\n",
       "      <td>...</td>\n",
       "      <td>-0.010676</td>\n",
       "      <td>0.593499</td>\n",
       "      <td>1.136518</td>\n",
       "      <td>1.505242</td>\n",
       "      <td>1.942371</td>\n",
       "      <td>2.311975</td>\n",
       "      <td>2.691252</td>\n",
       "      <td>2.824533</td>\n",
       "      <td>-0.000011</td>\n",
       "      <td>18</td>\n",
       "    </tr>\n",
       "    <tr>\n",
       "      <th>4199835</th>\n",
       "      <td>2015-02-28 18:00:00</td>\n",
       "      <td>-0.000165</td>\n",
       "      <td>88.419998</td>\n",
       "      <td>111.849998</td>\n",
       "      <td>0.196722</td>\n",
       "      <td>1.0</td>\n",
       "      <td>1.27</td>\n",
       "      <td>1.488501</td>\n",
       "      <td>1.8415</td>\n",
       "      <td>2.3345</td>\n",
       "      <td>...</td>\n",
       "      <td>-4.826113</td>\n",
       "      <td>-4.162806</td>\n",
       "      <td>-3.729328</td>\n",
       "      <td>-3.426113</td>\n",
       "      <td>-2.980954</td>\n",
       "      <td>-2.648366</td>\n",
       "      <td>-2.550055</td>\n",
       "      <td>-2.323054</td>\n",
       "      <td>-0.000839</td>\n",
       "      <td>18</td>\n",
       "    </tr>\n",
       "    <tr>\n",
       "      <th>4199836</th>\n",
       "      <td>2015-02-28 18:00:00</td>\n",
       "      <td>-0.000078</td>\n",
       "      <td>89.189995</td>\n",
       "      <td>-171.569992</td>\n",
       "      <td>0.156673</td>\n",
       "      <td>1.0</td>\n",
       "      <td>1.27</td>\n",
       "      <td>1.488501</td>\n",
       "      <td>1.8415</td>\n",
       "      <td>2.3345</td>\n",
       "      <td>...</td>\n",
       "      <td>-4.714759</td>\n",
       "      <td>-5.147550</td>\n",
       "      <td>-5.511382</td>\n",
       "      <td>-5.582294</td>\n",
       "      <td>-6.103623</td>\n",
       "      <td>-6.217340</td>\n",
       "      <td>-5.986819</td>\n",
       "      <td>-5.482580</td>\n",
       "      <td>-0.000495</td>\n",
       "      <td>18</td>\n",
       "    </tr>\n",
       "    <tr>\n",
       "      <th>4199837</th>\n",
       "      <td>2015-02-28 18:00:00</td>\n",
       "      <td>-0.000063</td>\n",
       "      <td>89.269997</td>\n",
       "      <td>46.529999</td>\n",
       "      <td>0.084857</td>\n",
       "      <td>1.0</td>\n",
       "      <td>1.27</td>\n",
       "      <td>1.488501</td>\n",
       "      <td>1.8415</td>\n",
       "      <td>2.3345</td>\n",
       "      <td>...</td>\n",
       "      <td>5.708429</td>\n",
       "      <td>5.440742</td>\n",
       "      <td>5.119752</td>\n",
       "      <td>4.757587</td>\n",
       "      <td>4.508724</td>\n",
       "      <td>4.032255</td>\n",
       "      <td>3.689447</td>\n",
       "      <td>3.532344</td>\n",
       "      <td>-0.000743</td>\n",
       "      <td>18</td>\n",
       "    </tr>\n",
       "    <tr>\n",
       "      <th>4199838</th>\n",
       "      <td>2015-02-28 18:00:00</td>\n",
       "      <td>-0.000064</td>\n",
       "      <td>89.320000</td>\n",
       "      <td>-62.049999</td>\n",
       "      <td>0.129242</td>\n",
       "      <td>1.0</td>\n",
       "      <td>1.27</td>\n",
       "      <td>1.488501</td>\n",
       "      <td>1.8415</td>\n",
       "      <td>2.3345</td>\n",
       "      <td>...</td>\n",
       "      <td>2.841720</td>\n",
       "      <td>2.137918</td>\n",
       "      <td>1.564459</td>\n",
       "      <td>1.395590</td>\n",
       "      <td>2.000310</td>\n",
       "      <td>2.625103</td>\n",
       "      <td>2.801180</td>\n",
       "      <td>2.766160</td>\n",
       "      <td>-0.000496</td>\n",
       "      <td>18</td>\n",
       "    </tr>\n",
       "  </tbody>\n",
       "</table>\n",
       "<p>5 rows × 594 columns</p>\n",
       "</div>"
      ],
      "text/plain": [
       "                   DATETIME    IMPACT   LATITUDE   LONGITUDE       OMF  \\\n",
       "4199834 2015-02-28 18:00:00 -0.000004  88.250000  -96.519997  0.329822   \n",
       "4199835 2015-02-28 18:00:00 -0.000165  88.419998  111.849998  0.196722   \n",
       "4199836 2015-02-28 18:00:00 -0.000078  89.189995 -171.569992  0.156673   \n",
       "4199837 2015-02-28 18:00:00 -0.000063  89.269997   46.529999  0.084857   \n",
       "4199838 2015-02-28 18:00:00 -0.000064  89.320000  -62.049999  0.129242   \n",
       "\n",
       "         delp_0.015  delp_0.026  delp_0.04  delp_0.057  delp_0.078  ...   \\\n",
       "4199834         1.0        1.27   1.488501      1.8415      2.3345  ...    \n",
       "4199835         1.0        1.27   1.488501      1.8415      2.3345  ...    \n",
       "4199836         1.0        1.27   1.488501      1.8415      2.3345  ...    \n",
       "4199837         1.0        1.27   1.488501      1.8415      2.3345  ...    \n",
       "4199838         1.0        1.27   1.488501      1.8415      2.3345  ...    \n",
       "\n",
       "         v_873.975  v_888.632  v_903.289  v_917.946  v_932.602  v_947.258  \\\n",
       "4199834  -0.010676   0.593499   1.136518   1.505242   1.942371   2.311975   \n",
       "4199835  -4.826113  -4.162806  -3.729328  -3.426113  -2.980954  -2.648366   \n",
       "4199836  -4.714759  -5.147550  -5.511382  -5.582294  -6.103623  -6.217340   \n",
       "4199837   5.708429   5.440742   5.119752   4.757587   4.508724   4.032255   \n",
       "4199838   2.841720   2.137918   1.564459   1.395590   2.000310   2.625103   \n",
       "\n",
       "         v_961.913  v_976.62  SENSITIVITY  hour  \n",
       "4199834   2.691252  2.824533    -0.000011    18  \n",
       "4199835  -2.550055 -2.323054    -0.000839    18  \n",
       "4199836  -5.986819 -5.482580    -0.000495    18  \n",
       "4199837   3.689447  3.532344    -0.000743    18  \n",
       "4199838   2.801180  2.766160    -0.000496    18  \n",
       "\n",
       "[5 rows x 594 columns]"
      ]
     },
     "execution_count": 5,
     "metadata": {},
     "output_type": "execute_result"
    }
   ],
   "source": [
    "df.tail()"
   ]
  },
  {
   "cell_type": "code",
   "execution_count": 6,
   "metadata": {},
   "outputs": [
    {
     "data": {
      "text/html": [
       "<div>\n",
       "<style scoped>\n",
       "    .dataframe tbody tr th:only-of-type {\n",
       "        vertical-align: middle;\n",
       "    }\n",
       "\n",
       "    .dataframe tbody tr th {\n",
       "        vertical-align: top;\n",
       "    }\n",
       "\n",
       "    .dataframe thead th {\n",
       "        text-align: right;\n",
       "    }\n",
       "</style>\n",
       "<table border=\"1\" class=\"dataframe\">\n",
       "  <thead>\n",
       "    <tr style=\"text-align: right;\">\n",
       "      <th></th>\n",
       "      <th>delp</th>\n",
       "      <th>ozone</th>\n",
       "      <th>qitot</th>\n",
       "      <th>qltot</th>\n",
       "      <th>sphu</th>\n",
       "      <th>tv</th>\n",
       "      <th>u</th>\n",
       "      <th>v</th>\n",
       "      <th>DATETIME</th>\n",
       "      <th>IMPACT</th>\n",
       "      <th>...</th>\n",
       "      <th>frocean</th>\n",
       "      <th>frseaice</th>\n",
       "      <th>hs_stdv</th>\n",
       "      <th>lat</th>\n",
       "      <th>lon</th>\n",
       "      <th>phis</th>\n",
       "      <th>ps</th>\n",
       "      <th>ts</th>\n",
       "      <th>SENSITIVITY</th>\n",
       "      <th>hour</th>\n",
       "    </tr>\n",
       "  </thead>\n",
       "  <tbody>\n",
       "    <tr>\n",
       "      <th>302388403</th>\n",
       "      <td>1505.413818</td>\n",
       "      <td>0.023409</td>\n",
       "      <td>0.000002</td>\n",
       "      <td>0.000007</td>\n",
       "      <td>0.000402</td>\n",
       "      <td>247.908279</td>\n",
       "      <td>-3.216168</td>\n",
       "      <td>1.395590</td>\n",
       "      <td>2015-02-28 18:00:00</td>\n",
       "      <td>-0.000064</td>\n",
       "      <td>...</td>\n",
       "      <td>1.0</td>\n",
       "      <td>0.957943</td>\n",
       "      <td>0.0</td>\n",
       "      <td>89.5</td>\n",
       "      <td>-61.875</td>\n",
       "      <td>0.0</td>\n",
       "      <td>100251.609375</td>\n",
       "      <td>251.866562</td>\n",
       "      <td>-0.000496</td>\n",
       "      <td>18</td>\n",
       "    </tr>\n",
       "    <tr>\n",
       "      <th>302388404</th>\n",
       "      <td>1505.370972</td>\n",
       "      <td>0.023913</td>\n",
       "      <td>0.000007</td>\n",
       "      <td>0.000025</td>\n",
       "      <td>0.000332</td>\n",
       "      <td>245.818283</td>\n",
       "      <td>-2.748840</td>\n",
       "      <td>2.000310</td>\n",
       "      <td>2015-02-28 18:00:00</td>\n",
       "      <td>-0.000064</td>\n",
       "      <td>...</td>\n",
       "      <td>1.0</td>\n",
       "      <td>0.957943</td>\n",
       "      <td>0.0</td>\n",
       "      <td>89.5</td>\n",
       "      <td>-61.875</td>\n",
       "      <td>0.0</td>\n",
       "      <td>100251.609375</td>\n",
       "      <td>251.866562</td>\n",
       "      <td>-0.000496</td>\n",
       "      <td>18</td>\n",
       "    </tr>\n",
       "    <tr>\n",
       "      <th>302388405</th>\n",
       "      <td>1505.416626</td>\n",
       "      <td>0.024183</td>\n",
       "      <td>0.000012</td>\n",
       "      <td>0.000019</td>\n",
       "      <td>0.000345</td>\n",
       "      <td>246.367722</td>\n",
       "      <td>-3.042329</td>\n",
       "      <td>2.625103</td>\n",
       "      <td>2015-02-28 18:00:00</td>\n",
       "      <td>-0.000064</td>\n",
       "      <td>...</td>\n",
       "      <td>1.0</td>\n",
       "      <td>0.957943</td>\n",
       "      <td>0.0</td>\n",
       "      <td>89.5</td>\n",
       "      <td>-61.875</td>\n",
       "      <td>0.0</td>\n",
       "      <td>100251.609375</td>\n",
       "      <td>251.866562</td>\n",
       "      <td>-0.000496</td>\n",
       "      <td>18</td>\n",
       "    </tr>\n",
       "    <tr>\n",
       "      <th>302388406</th>\n",
       "      <td>1505.447754</td>\n",
       "      <td>0.024248</td>\n",
       "      <td>0.000007</td>\n",
       "      <td>0.000009</td>\n",
       "      <td>0.000376</td>\n",
       "      <td>247.490265</td>\n",
       "      <td>-3.394604</td>\n",
       "      <td>2.801180</td>\n",
       "      <td>2015-02-28 18:00:00</td>\n",
       "      <td>-0.000064</td>\n",
       "      <td>...</td>\n",
       "      <td>1.0</td>\n",
       "      <td>0.957943</td>\n",
       "      <td>0.0</td>\n",
       "      <td>89.5</td>\n",
       "      <td>-61.875</td>\n",
       "      <td>0.0</td>\n",
       "      <td>100251.609375</td>\n",
       "      <td>251.866562</td>\n",
       "      <td>-0.000496</td>\n",
       "      <td>18</td>\n",
       "    </tr>\n",
       "    <tr>\n",
       "      <th>302388407</th>\n",
       "      <td>1503.786255</td>\n",
       "      <td>0.024266</td>\n",
       "      <td>0.000003</td>\n",
       "      <td>0.000003</td>\n",
       "      <td>0.000398</td>\n",
       "      <td>248.628876</td>\n",
       "      <td>-3.535062</td>\n",
       "      <td>2.766160</td>\n",
       "      <td>2015-02-28 18:00:00</td>\n",
       "      <td>-0.000064</td>\n",
       "      <td>...</td>\n",
       "      <td>1.0</td>\n",
       "      <td>0.957943</td>\n",
       "      <td>0.0</td>\n",
       "      <td>89.5</td>\n",
       "      <td>-61.875</td>\n",
       "      <td>0.0</td>\n",
       "      <td>100251.609375</td>\n",
       "      <td>251.866562</td>\n",
       "      <td>-0.000496</td>\n",
       "      <td>18</td>\n",
       "    </tr>\n",
       "  </tbody>\n",
       "</table>\n",
       "<p>5 rows × 26 columns</p>\n",
       "</div>"
      ],
      "text/plain": [
       "                  delp     ozone     qitot     qltot      sphu          tv  \\\n",
       "302388403  1505.413818  0.023409  0.000002  0.000007  0.000402  247.908279   \n",
       "302388404  1505.370972  0.023913  0.000007  0.000025  0.000332  245.818283   \n",
       "302388405  1505.416626  0.024183  0.000012  0.000019  0.000345  246.367722   \n",
       "302388406  1505.447754  0.024248  0.000007  0.000009  0.000376  247.490265   \n",
       "302388407  1503.786255  0.024266  0.000003  0.000003  0.000398  248.628876   \n",
       "\n",
       "                  u         v            DATETIME    IMPACT  ...   frocean  \\\n",
       "302388403 -3.216168  1.395590 2015-02-28 18:00:00 -0.000064  ...       1.0   \n",
       "302388404 -2.748840  2.000310 2015-02-28 18:00:00 -0.000064  ...       1.0   \n",
       "302388405 -3.042329  2.625103 2015-02-28 18:00:00 -0.000064  ...       1.0   \n",
       "302388406 -3.394604  2.801180 2015-02-28 18:00:00 -0.000064  ...       1.0   \n",
       "302388407 -3.535062  2.766160 2015-02-28 18:00:00 -0.000064  ...       1.0   \n",
       "\n",
       "           frseaice  hs_stdv   lat     lon  phis             ps          ts  \\\n",
       "302388403  0.957943      0.0  89.5 -61.875   0.0  100251.609375  251.866562   \n",
       "302388404  0.957943      0.0  89.5 -61.875   0.0  100251.609375  251.866562   \n",
       "302388405  0.957943      0.0  89.5 -61.875   0.0  100251.609375  251.866562   \n",
       "302388406  0.957943      0.0  89.5 -61.875   0.0  100251.609375  251.866562   \n",
       "302388407  0.957943      0.0  89.5 -61.875   0.0  100251.609375  251.866562   \n",
       "\n",
       "           SENSITIVITY  hour  \n",
       "302388403    -0.000496    18  \n",
       "302388404    -0.000496    18  \n",
       "302388405    -0.000496    18  \n",
       "302388406    -0.000496    18  \n",
       "302388407    -0.000496    18  \n",
       "\n",
       "[5 rows x 26 columns]"
      ]
     },
     "execution_count": 6,
     "metadata": {},
     "output_type": "execute_result"
    }
   ],
   "source": [
    "df_2D.tail()"
   ]
  },
  {
   "cell_type": "markdown",
   "metadata": {},
   "source": [
    "### Split train and test samples by datetime"
   ]
  },
  {
   "cell_type": "markdown",
   "metadata": {},
   "source": [
    "We will train on the eleven first weeks, then test on the last two weeks."
   ]
  },
  {
   "cell_type": "code",
   "execution_count": 7,
   "metadata": {},
   "outputs": [
    {
     "name": "stdout",
     "output_type": "stream",
     "text": [
      "RAM usage: 149.37GB\n"
     ]
    }
   ],
   "source": [
    "df = df.set_index([\"DATETIME\"])\n",
    "df_2D = df_2D.set_index([\"DATETIME\"])\n",
    "\n",
    "train = df.loc[\"2014-12-01 00:00:00\": \"2015-02-14 18:00:00\"].reset_index()\n",
    "test = df.loc[\"2015-02-15 00:00:00\": \"2015-02-28 18:00:00\"].reset_index()\n",
    "\n",
    "train_2D = df_2D.loc[\"2014-12-01 00:00:00\": \"2015-02-14 18:00:00\"].reset_index()\n",
    "test_2D = df_2D.loc[\"2015-02-15 00:00:00\": \"2015-02-28 18:00:00\"].reset_index()\n",
    "\n",
    "print_ram_usage()"
   ]
  },
  {
   "cell_type": "markdown",
   "metadata": {},
   "source": [
    "### Split inputs and outputs"
   ]
  },
  {
   "cell_type": "code",
   "execution_count": 8,
   "metadata": {},
   "outputs": [
    {
     "name": "stdout",
     "output_type": "stream",
     "text": [
      "RAM usage: 189.09GB\n"
     ]
    }
   ],
   "source": [
    "X_train = train.drop([\"DATETIME\", \"IMPACT\", \"OMF\", \"SENSITIVITY\"], axis=1)\n",
    "X_test = test.drop([\"DATETIME\", \"IMPACT\", \"OMF\", \"SENSITIVITY\"], axis=1)\n",
    "\n",
    "X_train_2D = train_2D.drop([\"DATETIME\", \"IMPACT\", \"OMF\", \"SENSITIVITY\"], axis=1)\n",
    "X_test_2D = test_2D.drop([\"DATETIME\", \"IMPACT\", \"OMF\", \"SENSITIVITY\"], axis=1)\n",
    "\n",
    "y_train = train[\"SENSITIVITY\"]\n",
    "y_test = test[\"SENSITIVITY\"]\n",
    "\n",
    "cols = X_train.columns.tolist()\n",
    "\n",
    "print_ram_usage()"
   ]
  },
  {
   "cell_type": "markdown",
   "metadata": {},
   "source": [
    "### Delete unuse large objects and free memory"
   ]
  },
  {
   "cell_type": "code",
   "execution_count": 9,
   "metadata": {},
   "outputs": [
    {
     "name": "stdout",
     "output_type": "stream",
     "text": [
      "RAM usage: 91.31GB\n"
     ]
    }
   ],
   "source": [
    "del train, test, df, train_2D, test_2D, df_2D\n",
    "\n",
    "gc.collect()\n",
    "\n",
    "print_ram_usage()"
   ]
  },
  {
   "cell_type": "markdown",
   "metadata": {},
   "source": [
    "### Standardize data to zero mean and unit variance"
   ]
  },
  {
   "cell_type": "markdown",
   "metadata": {},
   "source": [
    "If a predictor has a larger magnitude than others, it will lead to more change caused by this predictor for the weights of the Neural Network when updating them through gradient backpropagation.\n",
    "Practice has shown that this step often leads to more efficient training. As our target has a very small order of magnitude, it will also help us to interpret the results with more readability."
   ]
  },
  {
   "cell_type": "code",
   "execution_count": 10,
   "metadata": {},
   "outputs": [
    {
     "name": "stdout",
     "output_type": "stream",
     "text": [
      "RAM usage: 119.45GB\n"
     ]
    }
   ],
   "source": [
    "X_scaler, X_scaler_2D, y_scaler = StandardScaler(), StandardScaler(), StandardScaler()\n",
    "\n",
    "X_train = pd.DataFrame(X_scaler.fit_transform(X_train), columns=cols)\n",
    "X_test = pd.DataFrame(X_scaler.transform(X_test), columns=cols)\n",
    "\n",
    "X_train_2D = X_scaler_2D.fit_transform(X_train_2D)\n",
    "X_test_2D = X_scaler_2D.transform(X_test_2D)\n",
    "\n",
    "X_train_2D = np.reshape(X_train_2D, (len(X_train), 72, 22, 1))\n",
    "X_test_2D = np.reshape(X_test_2D, (len(X_test), 72, 22, 1))\n",
    "\n",
    "y_train = y_scaler.fit_transform(y_train.values.reshape(-1, 1)).reshape(-1, )\n",
    "y_test = y_scaler.transform(y_test.values.reshape(-1, 1)).reshape(-1, )\n",
    "\n",
    "print_ram_usage()"
   ]
  },
  {
   "cell_type": "markdown",
   "metadata": {},
   "source": [
    "### Train and predict Multi-input Neural Network"
   ]
  },
  {
   "cell_type": "code",
   "execution_count": 27,
   "metadata": {},
   "outputs": [
    {
     "name": "stdout",
     "output_type": "stream",
     "text": [
      "Epoch 1/1\n",
      "3535459/3535459 [==============================] - 504s 143us/step - loss: 1.0288\n"
     ]
    },
    {
     "data": {
      "text/plain": [
       "<keras.callbacks.History at 0x7fad9d6a0320>"
      ]
     },
     "execution_count": 27,
     "metadata": {},
     "output_type": "execute_result"
    }
   ],
   "source": [
    "def multi_input_nn():\n",
    "    input_1D = Input(shape=(590,), name=\"input_1D\")\n",
    "    input_2D = Input(shape=(72, 22, 1), name=\"input_2D\")\n",
    "\n",
    "    x = Dense(64, input_dim=590)(input_1D)\n",
    "    x = BatchNormalization()(x)\n",
    "    x = Activation(\"relu\")(x)\n",
    "    x = Dropout(0.5)(x)\n",
    "    \n",
    "    x2 = Conv2D(64, kernel_size=(3, 3), padding=\"same\")(input_2D)\n",
    "    x2 = BatchNormalization()(x2)\n",
    "    x2 = Activation(\"relu\")(x2)\n",
    "    x2 = MaxPooling2D(pool_size=(2, 2))(x2)\n",
    "    x2 = SpatialDropout2D(0.5)(x2)\n",
    "    x2 = Flatten()(x2)\n",
    "\n",
    "    merge_output = concatenate([x, x2])\n",
    "    \n",
    "    x = Dense(64, activation=\"relu\")(merge_output)\n",
    "    x = BatchNormalization()(x)\n",
    "    x = Activation(\"relu\")(x)\n",
    "    x = Dropout(0.5)(x)\n",
    "    \n",
    "    x = Dense(64, activation=\"relu\")(x)\n",
    "    x = BatchNormalization()(x)\n",
    "    x = Activation(\"relu\")(x)\n",
    "    x = Dropout(0.5)(x)\n",
    "\n",
    "    output = Dense(1, name=\"output\")(x)\n",
    "    \n",
    "    model = Model(inputs=[input_1D, input_2D], outputs=[output])\n",
    "    parallel_model = multi_gpu_model(model, gpus=8)\n",
    "    parallel_model.compile(loss=\"mean_squared_error\", optimizer=\"adam\")\n",
    "    \n",
    "    return parallel_model\n",
    "\n",
    "\n",
    "# fix random seed for reproducibility\n",
    "np.random.seed(3)\n",
    "\n",
    "nn = multi_input_nn()\n",
    "\n",
    "nn.fit([X_train, X_train_2D], [y_train], epochs=1, batch_size=512)"
   ]
  },
  {
   "cell_type": "code",
   "execution_count": 28,
   "metadata": {},
   "outputs": [
    {
     "name": "stdout",
     "output_type": "stream",
     "text": [
      "664380/664380 [==============================] - 343s 517us/step\n"
     ]
    }
   ],
   "source": [
    "nn_pred = nn.predict([X_test, X_test_2D], verbose=1)\n",
    "nn_pred = np.reshape(nn_pred, -1)"
   ]
  },
  {
   "cell_type": "markdown",
   "metadata": {},
   "source": [
    "### Results"
   ]
  },
  {
   "cell_type": "markdown",
   "metadata": {},
   "source": [
    "#### Mean Squared Errors / Mean Absolute Errors"
   ]
  },
  {
   "cell_type": "code",
   "execution_count": 29,
   "metadata": {},
   "outputs": [
    {
     "name": "stdout",
     "output_type": "stream",
     "text": [
      "Only zeros MSE:      0.9515\n",
      "NN MSE:              0.9476\n",
      "Multi-inpout NN MSE: 0.9503\n",
      "\n",
      "Only zeros MAE:      0.5455\n",
      "NN MAE:              0.5446\n",
      "Multi-inpout NN MAE: 0.5460\n"
     ]
    }
   ],
   "source": [
    "print(\"Only zeros MSE:      {:.4f}\".format(mean_squared_error(y_test, [0]*len(y_test))))\n",
    "print(\"NN MSE:              {:.4f}\".format(0.9476))\n",
    "print(\"Multi-inpout NN MSE: {:.4f}\".format(mean_squared_error(y_test, nn_pred)))\n",
    "print(\"\")\n",
    "print(\"Only zeros MAE:      {:.4f}\".format(mean_absolute_error(y_test, nn_pred)))\n",
    "print(\"NN MAE:              {:.4f}\".format(0.5446))\n",
    "print(\"Multi-inpout NN MAE: {:.4f}\".format(mean_absolute_error(y_test, [0]*len(y_test))))"
   ]
  },
  {
   "cell_type": "markdown",
   "metadata": {},
   "source": [
    "#### Plot"
   ]
  },
  {
   "cell_type": "code",
   "execution_count": 33,
   "metadata": {},
   "outputs": [
    {
     "data": {
      "image/png": "[encoded data removed]",
      "text/plain": [
       "<Figure size 432x432 with 3 Axes>"
      ]
     },
     "metadata": {},
     "output_type": "display_data"
    }
   ],
   "source": [
    "ax = sns.jointplot(x=y_test, y=nn_pred, kind=\"reg\")\n",
    "ax.annotate(stats.pearsonr)\n",
    "ax.set_axis_labels(xlabel=\"y_test (sensitivity)\", ylabel=\"nn pred\")\n",
    "# fix y axis limits\n",
    "ax.ax_marg_y.set_ylim(-0.4, 5)\n",
    "# add bisector (in black)\n",
    "plt.plot([-0.35, 4.5], [-0.35, 4.5], \"k-\")\n",
    "plt.show()"
   ]
  },
  {
   "cell_type": "code",
   "execution_count": 31,
   "metadata": {},
   "outputs": [
    {
     "name": "stdout",
     "output_type": "stream",
     "text": [
      "RAM usage: 127.99GB\n"
     ]
    }
   ],
   "source": [
    "print_ram_usage()"
   ]
  }
 ],
 "metadata": {
  "kernelspec": {
   "display_name": "conda_tensorflow_p36",
   "language": "python",
   "name": "conda_tensorflow_p36"
  },
  "language_info": {
   "codemirror_mode": {
    "name": "ipython",
    "version": 3
   },
   "file_extension": ".py",
   "mimetype": "text/x-python",
   "name": "python",
   "nbconvert_exporter": "python",
   "pygments_lexer": "ipython3",
   "version": "3.6.4"
  }
 },
 "nbformat": 4,
 "nbformat_minor": 2
}
